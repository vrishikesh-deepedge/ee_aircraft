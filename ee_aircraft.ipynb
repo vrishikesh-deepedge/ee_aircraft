{
  "nbformat": 4,
  "nbformat_minor": 0,
  "metadata": {
    "colab": {
      "provenance": [],
      "authorship_tag": "ABX9TyPt3Kox65J49e5AbvCCToNA",
      "include_colab_link": true
    },
    "kernelspec": {
      "name": "python3",
      "display_name": "Python 3"
    },
    "language_info": {
      "name": "python"
    }
  },
  "cells": [
    {
      "cell_type": "markdown",
      "metadata": {
        "id": "view-in-github",
        "colab_type": "text"
      },
      "source": [
        "<a href=\"https://colab.research.google.com/github/vrishikesh-deepedge/ee_aircraft/blob/main/ee_aircraft.ipynb\" target=\"_parent\"><img src=\"https://colab.research.google.com/assets/colab-badge.svg\" alt=\"Open In Colab\"/></a>"
      ]
    },
    {
      "cell_type": "code",
      "source": [
        "!pip install fastapi nest-asyncio pyngrok uvicorn\n",
        "!pip install python-multipart"
      ],
      "metadata": {
        "colab": {
          "base_uri": "https://localhost:8080/",
          "height": 466
        },
        "id": "HtZCLpCo_3E8",
        "outputId": "0122a48a-a418-4467-9a01-048737995cdf"
      },
      "execution_count": 9,
      "outputs": [
        {
          "output_type": "display_data",
          "data": {
            "text/plain": [
              "<IPython.core.display.HTML object>"
            ],
            "text/html": [
              "\n",
              "            <style>\n",
              "                .geemap-dark {\n",
              "                    --jp-widgets-color: white;\n",
              "                    --jp-widgets-label-color: white;\n",
              "                    --jp-ui-font-color1: white;\n",
              "                    --jp-layout-color2: #454545;\n",
              "                    background-color: #383838;\n",
              "                }\n",
              "\n",
              "                .geemap-dark .jupyter-button {\n",
              "                    --jp-layout-color3: #383838;\n",
              "                }\n",
              "\n",
              "                .geemap-colab {\n",
              "                    background-color: var(--colab-primary-surface-color, white);\n",
              "                }\n",
              "\n",
              "                .geemap-colab .jupyter-button {\n",
              "                    --jp-layout-color3: var(--colab-primary-surface-color, white);\n",
              "                }\n",
              "            </style>\n",
              "            "
            ]
          },
          "metadata": {}
        },
        {
          "output_type": "stream",
          "name": "stdout",
          "text": [
            "Requirement already satisfied: fastapi in /usr/local/lib/python3.11/dist-packages (0.115.12)\n",
            "Requirement already satisfied: nest-asyncio in /usr/local/lib/python3.11/dist-packages (1.6.0)\n",
            "Collecting pyngrok\n",
            "  Downloading pyngrok-7.2.5-py3-none-any.whl.metadata (8.9 kB)\n",
            "Collecting uvicorn\n",
            "  Downloading uvicorn-0.34.2-py3-none-any.whl.metadata (6.5 kB)\n",
            "Requirement already satisfied: starlette<0.47.0,>=0.40.0 in /usr/local/lib/python3.11/dist-packages (from fastapi) (0.46.2)\n",
            "Requirement already satisfied: pydantic!=1.8,!=1.8.1,!=2.0.0,!=2.0.1,!=2.1.0,<3.0.0,>=1.7.4 in /usr/local/lib/python3.11/dist-packages (from fastapi) (2.11.3)\n",
            "Requirement already satisfied: typing-extensions>=4.8.0 in /usr/local/lib/python3.11/dist-packages (from fastapi) (4.13.2)\n",
            "Requirement already satisfied: PyYAML>=5.1 in /usr/local/lib/python3.11/dist-packages (from pyngrok) (6.0.2)\n",
            "Requirement already satisfied: click>=7.0 in /usr/local/lib/python3.11/dist-packages (from uvicorn) (8.1.8)\n",
            "Requirement already satisfied: h11>=0.8 in /usr/local/lib/python3.11/dist-packages (from uvicorn) (0.16.0)\n",
            "Requirement already satisfied: annotated-types>=0.6.0 in /usr/local/lib/python3.11/dist-packages (from pydantic!=1.8,!=1.8.1,!=2.0.0,!=2.0.1,!=2.1.0,<3.0.0,>=1.7.4->fastapi) (0.7.0)\n",
            "Requirement already satisfied: pydantic-core==2.33.1 in /usr/local/lib/python3.11/dist-packages (from pydantic!=1.8,!=1.8.1,!=2.0.0,!=2.0.1,!=2.1.0,<3.0.0,>=1.7.4->fastapi) (2.33.1)\n",
            "Requirement already satisfied: typing-inspection>=0.4.0 in /usr/local/lib/python3.11/dist-packages (from pydantic!=1.8,!=1.8.1,!=2.0.0,!=2.0.1,!=2.1.0,<3.0.0,>=1.7.4->fastapi) (0.4.0)\n",
            "Requirement already satisfied: anyio<5,>=3.6.2 in /usr/local/lib/python3.11/dist-packages (from starlette<0.47.0,>=0.40.0->fastapi) (4.9.0)\n",
            "Requirement already satisfied: idna>=2.8 in /usr/local/lib/python3.11/dist-packages (from anyio<5,>=3.6.2->starlette<0.47.0,>=0.40.0->fastapi) (3.10)\n",
            "Requirement already satisfied: sniffio>=1.1 in /usr/local/lib/python3.11/dist-packages (from anyio<5,>=3.6.2->starlette<0.47.0,>=0.40.0->fastapi) (1.3.1)\n",
            "Downloading pyngrok-7.2.5-py3-none-any.whl (23 kB)\n",
            "Downloading uvicorn-0.34.2-py3-none-any.whl (62 kB)\n",
            "\u001b[2K   \u001b[90m━━━━━━━━━━━━━━━━━━━━━━━━━━━━━━━━━━━━━━━━\u001b[0m \u001b[32m62.5/62.5 kB\u001b[0m \u001b[31m3.9 MB/s\u001b[0m eta \u001b[36m0:00:00\u001b[0m\n",
            "\u001b[?25hInstalling collected packages: uvicorn, pyngrok\n",
            "Successfully installed pyngrok-7.2.5 uvicorn-0.34.2\n",
            "Requirement already satisfied: python-multipart in /usr/local/lib/python3.11/dist-packages (0.0.20)\n"
          ]
        }
      ]
    },
    {
      "cell_type": "code",
      "execution_count": 14,
      "metadata": {
        "colab": {
          "base_uri": "https://localhost:8080/",
          "height": 213
        },
        "id": "g5nlsID7rac5",
        "outputId": "a3d34dd5-a727-4a73-d645-760eb0714ec5"
      },
      "outputs": [
        {
          "output_type": "display_data",
          "data": {
            "text/plain": [
              "<IPython.core.display.HTML object>"
            ],
            "text/html": [
              "\n",
              "            <style>\n",
              "                .geemap-dark {\n",
              "                    --jp-widgets-color: white;\n",
              "                    --jp-widgets-label-color: white;\n",
              "                    --jp-ui-font-color1: white;\n",
              "                    --jp-layout-color2: #454545;\n",
              "                    background-color: #383838;\n",
              "                }\n",
              "\n",
              "                .geemap-dark .jupyter-button {\n",
              "                    --jp-layout-color3: #383838;\n",
              "                }\n",
              "\n",
              "                .geemap-colab {\n",
              "                    background-color: var(--colab-primary-surface-color, white);\n",
              "                }\n",
              "\n",
              "                .geemap-colab .jupyter-button {\n",
              "                    --jp-layout-color3: var(--colab-primary-surface-color, white);\n",
              "                }\n",
              "            </style>\n",
              "            "
            ]
          },
          "metadata": {}
        },
        {
          "output_type": "stream",
          "name": "stderr",
          "text": [
            "INFO:     Started server process [443]\n",
            "INFO:     Waiting for application startup.\n",
            "INFO:     Application startup complete.\n",
            "INFO:     Uvicorn running on http://127.0.0.1:8000 (Press CTRL+C to quit)\n"
          ]
        },
        {
          "output_type": "stream",
          "name": "stdout",
          "text": [
            "Public URL: https://c92d-34-16-175-19.ngrok-free.app\n",
            "INFO:     202.179.94.1:0 - \"GET / HTTP/1.1\" 200 OK\n",
            "INFO:     202.179.94.1:0 - \"GET /favicon.ico HTTP/1.1\" 404 Not Found\n"
          ]
        },
        {
          "output_type": "stream",
          "name": "stderr",
          "text": [
            "INFO:     Shutting down\n",
            "INFO:     Waiting for application shutdown.\n",
            "INFO:     Application shutdown complete.\n",
            "INFO:     Finished server process [443]\n"
          ]
        }
      ],
      "source": [
        "import ee\n",
        "import os\n",
        "import shutil\n",
        "import cv2\n",
        "from fastapi import FastAPI, Form, UploadFile, File\n",
        "from fastapi.responses import JSONResponse\n",
        "from starlette.middleware.cors import CORSMiddleware\n",
        "import requests\n",
        "import nest_asyncio\n",
        "from pyngrok import ngrok\n",
        "import uvicorn\n",
        "\n",
        "# Authenticate and initialize Earth Engine\n",
        "try:\n",
        "    ee.Initialize(project=\"test-earth-engine-458605\")\n",
        "except ee.ee_exception.EEException:\n",
        "    ee.Authenticate()\n",
        "    ee.Initialize(project=\"test-earth-engine-458605\")\n",
        "\n",
        "app = FastAPI()\n",
        "\n",
        "# CORS setup for frontend access\n",
        "app.add_middleware(\n",
        "    CORSMiddleware,\n",
        "    allow_origins=[\"*\"],\n",
        "    allow_credentials=True,\n",
        "    allow_methods=[\"*\"],\n",
        "    allow_headers=[\"*\"],\n",
        ")\n",
        "\n",
        "# Ensure image directory exists\n",
        "os.makedirs(\"aircraft_images\", exist_ok=True)\n",
        "\n",
        "def fetch_satellite_image(longitude: float, latitude: float):\n",
        "    point = ee.geometry.Geometry.Point([longitude, latitude])\n",
        "    image_collection = (\n",
        "        ee.imagecollection.ImageCollection(\"LANDSAT/LC08/C01/T1_SR\")\n",
        "        .filterBounds(point)\n",
        "        .filterDate(\"2023-01-01\", \"2023-12-31\")\n",
        "        .sort(\"system:time_start\")\n",
        "    )\n",
        "    image = image_collection.first().select([\"B4\", \"B3\", \"B2\"]).visualize(min=0, max=3000)\n",
        "    url = image.getThumbURL({\"region\": point.buffer(500).bounds(), \"dimensions\": 256})\n",
        "    return url\n",
        "\n",
        "def download_image_from_url(url, save_path):\n",
        "    response = requests.get(url, stream=True)\n",
        "    if response.status_code == 200:\n",
        "        with open(save_path, 'wb') as out_file:\n",
        "            shutil.copyfileobj(response.raw, out_file)\n",
        "        return True\n",
        "    return False\n",
        "\n",
        "def match_images(aircraft_path, satellite_path):\n",
        "    aircraft_image = cv2.imread(aircraft_path, cv2.IMREAD_GRAYSCALE)\n",
        "    satellite_image = cv2.imread(satellite_path, cv2.IMREAD_GRAYSCALE)\n",
        "\n",
        "    orb = cv2.ORB_create()\n",
        "    kp1, des1 = orb.detectAndCompute(aircraft_image, None)\n",
        "    kp2, des2 = orb.detectAndCompute(satellite_image, None)\n",
        "\n",
        "    if des1 is None or des2 is None:\n",
        "        return 0\n",
        "\n",
        "    bf = cv2.BFMatcher(cv2.NORM_HAMMING, crossCheck=True)\n",
        "    matches = bf.match(des1, des2)\n",
        "\n",
        "    matches = sorted(matches, key=lambda x: x.distance)\n",
        "\n",
        "    img_matches = cv2.drawMatches(aircraft_image, kp1, satellite_image, kp2, matches[:10], None, flags=2)\n",
        "    cv2.imshow('Matches', img_matches)\n",
        "    cv2.waitKey(0)\n",
        "    cv2.destroyAllWindows()\n",
        "\n",
        "    return len(matches)\n",
        "\n",
        "@app.get(\"/\")\n",
        "async def root():\n",
        "    return JSONResponse({\"message\": \"Hello World\"})\n",
        "\n",
        "@app.post(\"/upload\")\n",
        "async def upload_image(file: UploadFile = File(...), longitude: float = Form(...), latitude: float = Form(...)):\n",
        "    # Save aircraft image\n",
        "    aircraft_path = f\"aircraft_images/{file.filename}\"\n",
        "    with open(aircraft_path, \"wb\") as buffer:\n",
        "        shutil.copyfileobj(file.file, buffer)\n",
        "\n",
        "    # Retrieve satellite image from GEE\n",
        "    satellite_url = fetch_satellite_image(longitude, latitude)\n",
        "    satellite_path = f\"aircraft_images/satellite_{file.filename}\"\n",
        "    if not download_image_from_url(satellite_url, satellite_path):\n",
        "        return JSONResponse(status_code=500, content={\"error\": \"Failed to download satellite image\"})\n",
        "\n",
        "    # Match images\n",
        "    match_score = match_images(aircraft_path, satellite_path)\n",
        "\n",
        "    result = {\n",
        "        \"aircraft_image\": file.filename,\n",
        "        \"satellite_image\": satellite_path,\n",
        "        \"match_score\": match_score,\n",
        "        \"status\": \"on track\" if match_score > 100 else \"off track\"\n",
        "    }\n",
        "    return JSONResponse(content=result)\n",
        "\n",
        "# Set up ngrok\n",
        "ngrok_tunnel = ngrok.connect(8000, pyngrok_config=ngrok.PyngrokConfig(\n",
        "    auth_token='1tAeUFQnC5yWXcyNyYzpdrfhQsN_4xEr8qULGSan4D4XPJfqK'\n",
        "))\n",
        "print('Public URL:', ngrok_tunnel.public_url)\n",
        "\n",
        "# Apply nest_asyncio to allow nested event loops\n",
        "nest_asyncio.apply()\n",
        "\n",
        "# Run the server\n",
        "uvicorn.run(app, port=8000)\n"
      ]
    }
  ]
}